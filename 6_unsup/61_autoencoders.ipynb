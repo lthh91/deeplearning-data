{
 "cells": [
  {
   "cell_type": "markdown",
   "metadata": {
    "deletable": false,
    "editable": false,
    "nbgrader": {
     "cell_type": "markdown",
     "checksum": "26e37e61618d52dd24c89db624cd7687",
     "grade": false,
     "grade_id": "cell-e18bc7372632c56c",
     "locked": true,
     "schema_version": 3,
     "solution": false
    }
   },
   "source": [
    "# Exercise 6. Part 1. Autoencoders\n",
    "\n",
    "## Learning goals\n",
    "\n",
    "The goal of this exercise is to get familiar with autoencoders:\n",
    "* linear autoencoders\n",
    "* deep autoencoders with fully-connected layers\n",
    "* deep convolutional autoencoders"
   ]
  },
  {
   "cell_type": "code",
   "execution_count": null,
   "metadata": {},
   "outputs": [],
   "source": [
    "skip_training = False  # Set this flag to True before validation and submission"
   ]
  },
  {
   "cell_type": "code",
   "execution_count": null,
   "metadata": {
    "deletable": false,
    "editable": false,
    "nbgrader": {
     "cell_type": "code",
     "checksum": "65e2970339980ef7d85c3754662c4ee8",
     "grade": true,
     "grade_id": "evaluation_settings",
     "locked": true,
     "points": 0,
     "schema_version": 3,
     "solution": false
    }
   },
   "outputs": [],
   "source": [
    "# During evaluation, this cell sets skip_training to True\n",
    "# skip_training = True"
   ]
  },
  {
   "cell_type": "code",
   "execution_count": null,
   "metadata": {
    "deletable": false,
    "nbgrader": {
     "cell_type": "code",
     "checksum": "6af075225a789442a66cc8c483088345",
     "grade": false,
     "grade_id": "cell-97d0345f76fe314f",
     "locked": false,
     "schema_version": 3,
     "solution": true,
     "task": false
    }
   },
   "outputs": [],
   "source": [
    "# Select data directory\n",
    "import os\n",
    "if os.path.isdir('/coursedata'):\n",
    "    course_data_dir = '/coursedata'\n",
    "elif os.path.isdir('../data'):\n",
    "    course_data_dir = '../data'\n",
    "else:\n",
    "    # Specify course_data_dir on your machine\n",
    "    # course_data_dir = ...\n",
    "    # YOUR CODE HERE\n",
    "    raise NotImplementedError()\n",
    "\n",
    "print('The data directory is %s' % course_data_dir)"
   ]
  },
  {
   "cell_type": "code",
   "execution_count": null,
   "metadata": {
    "deletable": false,
    "editable": false,
    "nbgrader": {
     "cell_type": "code",
     "checksum": "05bc19bfacf2f414b59bb062a1e6efee",
     "grade": false,
     "grade_id": "cell-6c850d99d5a76fd2",
     "locked": true,
     "schema_version": 3,
     "solution": false
    }
   },
   "outputs": [],
   "source": [
    "import os\n",
    "import numpy as np\n",
    "import matplotlib.pyplot as plt\n",
    "%matplotlib inline\n",
    "\n",
    "import torch\n",
    "import torchvision\n",
    "import torchvision.transforms as transforms\n",
    "import torch.nn as nn\n",
    "import torch.nn.functional as F\n",
    "import torch.optim as optim\n",
    "\n",
    "from visualizations import visualize_embeddings, visualize_reconstructions"
   ]
  },
  {
   "cell_type": "code",
   "execution_count": null,
   "metadata": {},
   "outputs": [],
   "source": [
    "# Select the device for training (use GPU if you have one)\n",
    "#device = torch.device('cuda:0')\n",
    "device = torch.device('cpu')"
   ]
  },
  {
   "cell_type": "code",
   "execution_count": null,
   "metadata": {
    "deletable": false,
    "editable": false,
    "nbgrader": {
     "cell_type": "code",
     "checksum": "97fbc17672773977ee25387ca826e26b",
     "grade": false,
     "grade_id": "cell-6c689cad698955aa",
     "locked": true,
     "schema_version": 3,
     "solution": false
    }
   },
   "outputs": [],
   "source": [
    "if skip_training:\n",
    "    # The models are always evaluated on CPU\n",
    "    device = torch.device(\"cpu\")"
   ]
  },
  {
   "cell_type": "code",
   "execution_count": null,
   "metadata": {
    "deletable": false,
    "editable": false,
    "nbgrader": {
     "cell_type": "code",
     "checksum": "214f0da3a2541391627a1bc1841734db",
     "grade": false,
     "grade_id": "cell-3a8ecca2e24ee4be",
     "locked": true,
     "schema_version": 3,
     "solution": false
    }
   },
   "outputs": [],
   "source": [
    "# We will use FashionMNIST data in this exercise\n",
    "transform = transforms.Compose([\n",
    "    transforms.ToTensor(),  # Transform to tensor\n",
    "    transforms.Normalize((0.5,), (0.5,))\n",
    "])\n",
    "\n",
    "data_dir = os.path.join(course_data_dir, 'fashion_mnist')\n",
    "print('Data stored in %s' % data_dir)\n",
    "trainset = torchvision.datasets.FashionMNIST(root=data_dir, train=True, download=True, transform=transform)\n",
    "testset = torchvision.datasets.FashionMNIST(root=data_dir, train=False, download=True, transform=transform)\n",
    "\n",
    "trainloader = torch.utils.data.DataLoader(trainset, batch_size=32, shuffle=True)\n",
    "testloader = torch.utils.data.DataLoader(testset, batch_size=5, shuffle=False)"
   ]
  },
  {
   "cell_type": "markdown",
   "metadata": {
    "deletable": false,
    "editable": false,
    "nbgrader": {
     "cell_type": "markdown",
     "checksum": "16305e0784839c5a3c7f79121098e6b3",
     "grade": false,
     "grade_id": "cell-56ea84767089b27d",
     "locked": true,
     "schema_version": 3,
     "solution": false
    }
   },
   "source": [
    "## Linear autoencoder\n",
    "\n",
    "We will start with a simple linear autoencoder. Its encoder is defined in the cell below."
   ]
  },
  {
   "cell_type": "code",
   "execution_count": null,
   "metadata": {
    "deletable": false,
    "editable": false,
    "nbgrader": {
     "cell_type": "code",
     "checksum": "dc8c271609d6ded2a94f71b3bb41ddb2",
     "grade": false,
     "grade_id": "cell-7aa35830ae3bef98",
     "locked": true,
     "schema_version": 3,
     "solution": false
    }
   },
   "outputs": [],
   "source": [
    "class EncoderLinear(nn.Module):\n",
    "    def __init__(self, n_components):\n",
    "        super(EncoderLinear, self).__init__()\n",
    "        self.fc1 = nn.Linear(784, n_components)\n",
    "\n",
    "    def forward(self, x):\n",
    "        x = x.view(-1, self.fc1.in_features)\n",
    "        x = self.fc1(x)\n",
    "        return x"
   ]
  },
  {
   "cell_type": "markdown",
   "metadata": {
    "deletable": false,
    "editable": false,
    "nbgrader": {
     "cell_type": "markdown",
     "checksum": "015ddbfa4e554a4513b4ede8f360a202",
     "grade": false,
     "grade_id": "cell-7fe6aa09d0721bf1",
     "locked": true,
     "schema_version": 3,
     "solution": false
    }
   },
   "source": [
    "Your task is to implement a decoder that \"mirrors\" the structure of the linear encoder to produce 28x28 images with one channel from a given encoding (a vector with `n_components` elements)."
   ]
  },
  {
   "cell_type": "code",
   "execution_count": null,
   "metadata": {
    "deletable": false,
    "nbgrader": {
     "cell_type": "code",
     "checksum": "ac7969a6660d967d79fdeaced5bc88f8",
     "grade": false,
     "grade_id": "cell-f0e62b43fb786742",
     "locked": false,
     "schema_version": 3,
     "solution": true
    }
   },
   "outputs": [],
   "source": [
    "class DecoderLinear(nn.Module):\n",
    "    # YOUR CODE HERE\n",
    "    raise NotImplementedError()"
   ]
  },
  {
   "cell_type": "code",
   "execution_count": null,
   "metadata": {
    "deletable": false,
    "editable": false,
    "nbgrader": {
     "cell_type": "code",
     "checksum": "cd1d0c4ebb1101abcce6d43070625d2f",
     "grade": true,
     "grade_id": "linear_decoder",
     "locked": true,
     "points": 1,
     "schema_version": 3,
     "solution": false
    }
   },
   "outputs": [],
   "source": [
    "# Let's test your decoder\n",
    "n_components = 2\n",
    "decoder_test = DecoderLinear(n_components)\n",
    "x = torch.randn(1, 2)\n",
    "y = decoder_test(x)\n",
    "assert y.shape == torch.Size([1, 1, 28, 28]), \"Bad shape of y: y.shape={}\".format(y.shape)\n",
    "print(\"The shapes seem to be ok.\")"
   ]
  },
  {
   "cell_type": "code",
   "execution_count": null,
   "metadata": {
    "deletable": false,
    "editable": false,
    "nbgrader": {
     "cell_type": "code",
     "checksum": "9c9784d096c7e0dc87bc6279030c8779",
     "grade": false,
     "grade_id": "cell-b693678cc6f46ec1",
     "locked": true,
     "schema_version": 3,
     "solution": false
    }
   },
   "outputs": [],
   "source": [
    "# Create a linear autoencoder to encode data into a 10-dimensional vector.\n",
    "encoder = EncoderLinear(n_components=10)\n",
    "encoder.to(device)\n",
    "\n",
    "decoder = DecoderLinear(n_components=10)\n",
    "decoder.to(device)"
   ]
  },
  {
   "cell_type": "code",
   "execution_count": null,
   "metadata": {
    "deletable": false,
    "editable": false,
    "nbgrader": {
     "cell_type": "code",
     "checksum": "8c00b50e843d43ba6e5538c2e72c0c5f",
     "grade": false,
     "grade_id": "cell-379a98fe4b0cc301",
     "locked": true,
     "schema_version": 3,
     "solution": false
    }
   },
   "outputs": [],
   "source": [
    "# Define a Loss function and optimizer\n",
    "criterion = nn.MSELoss()\n",
    "parameters = list(encoder.parameters()) + list(decoder.parameters())\n",
    "optimizer = optim.Adam(parameters, lr=0.01)"
   ]
  },
  {
   "cell_type": "code",
   "execution_count": null,
   "metadata": {
    "deletable": false,
    "editable": false,
    "nbgrader": {
     "cell_type": "code",
     "checksum": "43db0b27618c5de7b003ac3402c06c8c",
     "grade": false,
     "grade_id": "cell-a545652a6cd5b273",
     "locked": true,
     "schema_version": 3,
     "solution": false
    }
   },
   "outputs": [],
   "source": [
    "# Train the autoencoder\n",
    "print_every = 200  # mini-batches\n",
    "for epoch in range(2):\n",
    "    running_loss = 0.0\n",
    "    for i, (inputs, labels) in enumerate(trainloader, 0):\n",
    "        inputs = inputs.to(device)\n",
    "\n",
    "        optimizer.zero_grad()\n",
    "\n",
    "        encoder_outputs = encoder(inputs)\n",
    "        decoder_outputs = decoder(encoder_outputs)\n",
    "\n",
    "        loss = criterion(decoder_outputs, inputs)\n",
    "        loss.backward()\n",
    "\n",
    "        optimizer.step()\n",
    "\n",
    "        # print statistics\n",
    "        running_loss += loss.item()\n",
    "        if i % print_every == (print_every-1):    # print every 200 mini-batches\n",
    "            print('[%d, %5d] loss: %.3f' % (epoch+1, i+1, running_loss/print_every))\n",
    "            running_loss = 0.0\n",
    "\n",
    "        if skip_training:\n",
    "            break\n",
    "    if skip_training:\n",
    "        break\n",
    "\n",
    "print('Finished Training')"
   ]
  },
  {
   "cell_type": "code",
   "execution_count": null,
   "metadata": {
    "deletable": false,
    "editable": false,
    "nbgrader": {
     "cell_type": "code",
     "checksum": "daf730fd6838bf05f7501ba66cedfffe",
     "grade": false,
     "grade_id": "cell-cc9a174bb282833a",
     "locked": true,
     "schema_version": 3,
     "solution": false
    }
   },
   "outputs": [],
   "source": [
    "# Save the model to disk, submit the files together with your notebook\n",
    "encoder_filename = '6_encoder_linear.pth'\n",
    "decoder_filename = '6_decoder_linear.pth'\n",
    "if not skip_training:\n",
    "    try:\n",
    "        do_save = input('Do you want to save the model (type yes to confirm)? ').lower()\n",
    "        if do_save == 'yes':\n",
    "            torch.save(encoder.state_dict(), encoder_filename)\n",
    "            torch.save(decoder.state_dict(), decoder_filename)\n",
    "            print('Model saved to %s, %s.' % (encoder_filename, decoder_filename))\n",
    "        else:\n",
    "            print('Model not saved.')\n",
    "    except:\n",
    "        raise Exception('The notebook should be run or validated with skip_training=True.')\n",
    "else:\n",
    "    n_components = 10\n",
    "    encoder = EncoderLinear(n_components)\n",
    "    encoder.load_state_dict(torch.load(encoder_filename, map_location=lambda storage, loc: storage))\n",
    "    print('Encoder loaded from %s.' % encoder_filename)\n",
    "    encoder.to(device)\n",
    "    encoder.eval()\n",
    "\n",
    "    n_components = 10\n",
    "    decoder = DecoderLinear(n_components)\n",
    "    decoder.load_state_dict(torch.load(decoder_filename, map_location=lambda storage, loc: storage))\n",
    "    print('Decoder loaded from %s.' % decoder_filename)\n",
    "    decoder.to(device)\n",
    "    decoder.eval()"
   ]
  },
  {
   "cell_type": "code",
   "execution_count": null,
   "metadata": {
    "deletable": false,
    "editable": false,
    "nbgrader": {
     "cell_type": "code",
     "checksum": "2945fab6a9d093efd5409f12ea88371a",
     "grade": false,
     "grade_id": "cell-5c5fb501c9af81a7",
     "locked": true,
     "schema_version": 3,
     "solution": false
    }
   },
   "outputs": [],
   "source": [
    "# Let's visualize the latent space\n",
    "# We visualize 10-dimensional representations with t-SNE projection method.\n",
    "visualize_embeddings(encoder, testloader, n_samples=1000, device=device)"
   ]
  },
  {
   "cell_type": "markdown",
   "metadata": {
    "deletable": false,
    "editable": false,
    "nbgrader": {
     "cell_type": "markdown",
     "checksum": "f62efe92127f91cee351ef1a81ae5fbf",
     "grade": false,
     "grade_id": "cell-aa7e1e06bb18547b",
     "locked": true,
     "schema_version": 3,
     "solution": false
    }
   },
   "source": [
    "Note that instances of similar classes end up close to each other in the embedding space."
   ]
  },
  {
   "cell_type": "code",
   "execution_count": null,
   "metadata": {
    "deletable": false,
    "editable": false,
    "nbgrader": {
     "cell_type": "code",
     "checksum": "aa02e7d8cd9877435fdf9d56b9fccfab",
     "grade": false,
     "grade_id": "cell-2718b357e8cce9cb",
     "locked": true,
     "schema_version": 3,
     "solution": false
    }
   },
   "outputs": [],
   "source": [
    "# Let's visualize test images and their reconstructions using the trained autoencoder\n",
    "visualize_reconstructions(encoder, decoder, testloader, device=device)"
   ]
  },
  {
   "cell_type": "markdown",
   "metadata": {
    "deletable": false,
    "editable": false,
    "nbgrader": {
     "cell_type": "markdown",
     "checksum": "851225693df86f7f86a9cb580f367ee0",
     "grade": false,
     "grade_id": "cell-94867dbc5fc9c8d1",
     "locked": true,
     "schema_version": 3,
     "solution": false
    }
   },
   "source": [
    "## Deep autoencoder\n",
    "\n",
    "Let us now train a deep autoencoders with fully-connected layers.\n",
    "\n",
    "The encoder will have three hidden layers with ReLU nonlinearities."
   ]
  },
  {
   "cell_type": "code",
   "execution_count": null,
   "metadata": {
    "deletable": false,
    "editable": false,
    "nbgrader": {
     "cell_type": "code",
     "checksum": "80b6b6b22fd4bb525b1540d703ad1f6d",
     "grade": false,
     "grade_id": "cell-f0e4f18f14a2dce4",
     "locked": true,
     "schema_version": 3,
     "solution": false
    }
   },
   "outputs": [],
   "source": [
    "class EncoderDeep(nn.Module):\n",
    "    def __init__(self, n_components):\n",
    "        super(EncoderDeep, self).__init__()\n",
    "        self.fc1 = nn.Linear(784, 1000)\n",
    "        self.fc2 = nn.Linear(1000, 500)\n",
    "        self.fc3 = nn.Linear(500, 250)\n",
    "        self.fc4 = nn.Linear(250, n_components)\n",
    "\n",
    "    def forward(self, x):\n",
    "        x = x.view(-1, self.fc1.in_features)\n",
    "        x = F.relu(self.fc1(x))\n",
    "        x = F.relu(self.fc2(x))\n",
    "        x = F.relu(self.fc3(x))\n",
    "        x = self.fc4(x)\n",
    "        return x"
   ]
  },
  {
   "cell_type": "markdown",
   "metadata": {
    "deletable": false,
    "editable": false,
    "nbgrader": {
     "cell_type": "markdown",
     "checksum": "55759f86d801bed3fee5c5caeb4310a0",
     "grade": false,
     "grade_id": "cell-8ed7efc7119e2de0",
     "locked": true,
     "schema_version": 3,
     "solution": false
    }
   },
   "source": [
    "Your task is to implement a decoder that \"mirrors\" the structure of the deep encoder defined above to produce 28x28 images with one channel from a given encoding (a vector with `n_components` elements)."
   ]
  },
  {
   "cell_type": "code",
   "execution_count": null,
   "metadata": {
    "deletable": false,
    "nbgrader": {
     "cell_type": "code",
     "checksum": "cc90f570808fd614a1f84ec3bdb51043",
     "grade": false,
     "grade_id": "cell-232baad7501f5f14",
     "locked": false,
     "schema_version": 3,
     "solution": true
    }
   },
   "outputs": [],
   "source": [
    "class DecoderDeep(nn.Module):\n",
    "    # YOUR CODE HERE\n",
    "    raise NotImplementedError()"
   ]
  },
  {
   "cell_type": "code",
   "execution_count": null,
   "metadata": {
    "deletable": false,
    "editable": false,
    "nbgrader": {
     "cell_type": "code",
     "checksum": "783b818cf7fe18e69295effc83598880",
     "grade": true,
     "grade_id": "cell-4c0db481f14d2929",
     "locked": true,
     "points": 1,
     "schema_version": 3,
     "solution": false
    }
   },
   "outputs": [],
   "source": [
    "# Let's test your decoder\n",
    "n_components = 2\n",
    "decoder_test = DecoderDeep(n_components)\n",
    "x = torch.randn(1, n_components)\n",
    "y = decoder_test(x)\n",
    "assert y.shape == torch.Size([1, 1, 28, 28]), \"Bad shape of y: y.shape={}\".format(y.shape)\n",
    "print(\"The shapes seem to be ok.\")"
   ]
  },
  {
   "cell_type": "code",
   "execution_count": null,
   "metadata": {
    "deletable": false,
    "editable": false,
    "nbgrader": {
     "cell_type": "code",
     "checksum": "2fa9dc473f616781261b7d21868b5612",
     "grade": false,
     "grade_id": "cell-3f669c35006f18ce",
     "locked": true,
     "schema_version": 3,
     "solution": false
    }
   },
   "outputs": [],
   "source": [
    "# Create a deep autoencoder\n",
    "n_components = 10\n",
    "encoder = EncoderDeep(n_components)\n",
    "encoder.to(device)\n",
    "\n",
    "decoder = DecoderDeep(n_components)\n",
    "decoder.to(device)"
   ]
  },
  {
   "cell_type": "code",
   "execution_count": null,
   "metadata": {
    "deletable": false,
    "editable": false,
    "nbgrader": {
     "cell_type": "code",
     "checksum": "b92c31c6509d588dd2281a987991361b",
     "grade": false,
     "grade_id": "cell-065bc6301dd7d17b",
     "locked": true,
     "schema_version": 3,
     "solution": false
    }
   },
   "outputs": [],
   "source": [
    "criterion = nn.MSELoss()\n",
    "parameters = list(encoder.parameters()) + list(decoder.parameters())\n",
    "optimizer = optim.Adam(parameters, lr=0.001)"
   ]
  },
  {
   "cell_type": "code",
   "execution_count": null,
   "metadata": {
    "deletable": false,
    "editable": false,
    "nbgrader": {
     "cell_type": "code",
     "checksum": "fd3da8a3e91ccfc22c34d5a66dfcb0b1",
     "grade": false,
     "grade_id": "cell-3591468d3a8af858",
     "locked": true,
     "schema_version": 3,
     "solution": false
    }
   },
   "outputs": [],
   "source": [
    "# Train the autoencoder\n",
    "for epoch in range(4):\n",
    "    running_loss = 0.0\n",
    "    for i, (inputs, labels) in enumerate(trainloader, 0):\n",
    "        inputs = inputs.to(device)\n",
    "\n",
    "        optimizer.zero_grad()\n",
    "\n",
    "        encoder_outputs = encoder(inputs)\n",
    "        decoder_outputs = decoder(encoder_outputs)\n",
    "\n",
    "        loss = criterion(decoder_outputs, inputs)\n",
    "        loss.backward()\n",
    "\n",
    "        optimizer.step()\n",
    "\n",
    "        # print statistics\n",
    "        running_loss += loss.item()\n",
    "        if i % 200 == 199:    # print every 200 mini-batches\n",
    "            print('[%d, %5d] loss: %.3f' %\n",
    "                  (epoch+1, i+1, running_loss/200))\n",
    "            running_loss = 0.0\n",
    "\n",
    "        if skip_training:\n",
    "            break\n",
    "    if skip_training:\n",
    "        break\n",
    "\n",
    "print('Finished Training')"
   ]
  },
  {
   "cell_type": "code",
   "execution_count": null,
   "metadata": {
    "deletable": false,
    "editable": false,
    "nbgrader": {
     "cell_type": "code",
     "checksum": "514aafba98f28b4309260ed49d43045f",
     "grade": false,
     "grade_id": "cell-a87b586ffde2e123",
     "locked": true,
     "schema_version": 3,
     "solution": false
    }
   },
   "outputs": [],
   "source": [
    "# Save the model to disk, submit the files together with your notebook\n",
    "encoder_filename = '6_encoder_deep.pth'\n",
    "decoder_filename = '6_decoder_deep.pth'\n",
    "if not skip_training:\n",
    "    try:\n",
    "        do_save = input('Do you want to save the model (type yes to confirm)? ').lower()\n",
    "        if do_save == 'yes':\n",
    "            torch.save(encoder.state_dict(), encoder_filename)\n",
    "            torch.save(decoder.state_dict(), decoder_filename)\n",
    "            print('Model saved to %s, %s.' % (encoder_filename, decoder_filename))\n",
    "        else:\n",
    "            print('Model not saved.')\n",
    "    except:\n",
    "        raise Exception('The notebook should be run or validated with skip_training=True.')\n",
    "else:\n",
    "    n_components = 10\n",
    "    encoder = EncoderDeep(n_components)\n",
    "    encoder.load_state_dict(torch.load(encoder_filename, map_location=lambda storage, loc: storage))\n",
    "    print('Encoder loaded from %s.' % encoder_filename)\n",
    "    encoder = encoder.to(device)\n",
    "    encoder.eval()\n",
    "\n",
    "    n_components = 10\n",
    "    decoder = DecoderDeep(n_components)\n",
    "    decoder.load_state_dict(torch.load(decoder_filename, map_location=lambda storage, loc: storage))\n",
    "    print('Decoder loaded from %s.' % decoder_filename)\n",
    "    decoder = decoder.to(device)\n",
    "    decoder.eval()"
   ]
  },
  {
   "cell_type": "code",
   "execution_count": null,
   "metadata": {
    "deletable": false,
    "editable": false,
    "nbgrader": {
     "cell_type": "code",
     "checksum": "e566df563aeb1cb01973bef76885ce55",
     "grade": false,
     "grade_id": "cell-da0a1852b1a1fc34",
     "locked": true,
     "schema_version": 3,
     "solution": false
    }
   },
   "outputs": [],
   "source": [
    "# Let's visualize the latent space\n",
    "visualize_embeddings(encoder, testloader, n_samples=1000, device=device)"
   ]
  },
  {
   "cell_type": "code",
   "execution_count": null,
   "metadata": {
    "deletable": false,
    "editable": false,
    "nbgrader": {
     "cell_type": "code",
     "checksum": "6aa4ae90d1585a2ef9d39cf4b3483f95",
     "grade": false,
     "grade_id": "cell-4e22bf02d1ee3698",
     "locked": true,
     "schema_version": 3,
     "solution": false
    }
   },
   "outputs": [],
   "source": [
    "# Let's visualize test images and their reconstructions using the trained autoencoder\n",
    "visualize_reconstructions(encoder, decoder, testloader, device=device)"
   ]
  },
  {
   "cell_type": "markdown",
   "metadata": {
    "deletable": false,
    "editable": false,
    "nbgrader": {
     "cell_type": "markdown",
     "checksum": "87889c5ac6fcf1eec6babf0b2d3b457a",
     "grade": false,
     "grade_id": "cell-f86476de655f1c43",
     "locked": true,
     "schema_version": 3,
     "solution": false
    }
   },
   "source": [
    "## Deep convolutional autoencoder\n",
    "\n",
    "Let us now train a deep autoencoders with two convolutional layers.\n",
    "\n",
    "The encoder is defined in the cell below."
   ]
  },
  {
   "cell_type": "code",
   "execution_count": null,
   "metadata": {
    "deletable": false,
    "editable": false,
    "nbgrader": {
     "cell_type": "code",
     "checksum": "b7a0eea92116b4be057ddc53ed44b36e",
     "grade": false,
     "grade_id": "cell-1cb1485d76b558a3",
     "locked": true,
     "schema_version": 3,
     "solution": false
    }
   },
   "outputs": [],
   "source": [
    "class EncoderDeepConv(nn.Module):\n",
    "    def __init__(self, n_components):\n",
    "        super(EncoderDeepConv, self).__init__()\n",
    "        self.conv1 = nn.Conv2d(in_channels=1, out_channels=6, kernel_size=5, padding=2, stride=2)\n",
    "        self.conv2 = nn.Conv2d(in_channels=6, out_channels=16, kernel_size=5, padding=2)\n",
    "        self.fc1 = nn.Linear(14*14*16, 250)\n",
    "        self.fc2 = nn.Linear(250, n_components)\n",
    "\n",
    "    def forward(self, x, verbose=False):\n",
    "        if verbose: print('Encoder')\n",
    "        if verbose: print(x.shape)\n",
    "        x = F.relu(self.conv1(x))\n",
    "        if verbose: print(x.shape)\n",
    "        x = F.relu(self.conv2(x))\n",
    "        if verbose: print(x.shape)\n",
    "        x = x.view(-1, self.fc1.in_features)\n",
    "        if verbose: print(x.shape)\n",
    "        x = F.relu(self.fc1(x))\n",
    "        if verbose: print(x.shape)\n",
    "        x = self.fc2(x)\n",
    "        if verbose: print(x.shape)\n",
    "        return x"
   ]
  },
  {
   "cell_type": "markdown",
   "metadata": {
    "deletable": false,
    "editable": false,
    "nbgrader": {
     "cell_type": "markdown",
     "checksum": "1f8578533d8c9bae1454b45092b4b269",
     "grade": false,
     "grade_id": "cell-f7b78cb49b342055",
     "locked": true,
     "schema_version": 3,
     "solution": false
    }
   },
   "source": [
    "Your task is to implement a decoder that \"mirrors\" the structure of the deep encoder defined above to produce 28x28 images with one channel from a given encoding (a vector with `n_components` elements).\n",
    "* Use [`torch.nn.ConvTranspose2d`](https://pytorch.org/docs/stable/nn.html#torch.nn.ConvTranspose2d) to mirror the convolutional layers.\n",
    "* Use ReLU after each layer except for the last one."
   ]
  },
  {
   "cell_type": "code",
   "execution_count": null,
   "metadata": {
    "deletable": false,
    "nbgrader": {
     "cell_type": "code",
     "checksum": "66ecba1a7a88a9f18a972eaeeb17a7d8",
     "grade": false,
     "grade_id": "cell-e4ae90a539256e11",
     "locked": false,
     "schema_version": 3,
     "solution": true
    }
   },
   "outputs": [],
   "source": [
    "class DecoderDeepConv(nn.Module):\n",
    "    # YOUR CODE HERE\n",
    "    raise NotImplementedError()"
   ]
  },
  {
   "cell_type": "code",
   "execution_count": null,
   "metadata": {
    "deletable": false,
    "editable": false,
    "nbgrader": {
     "cell_type": "code",
     "checksum": "a8c31ee860b88fa8c0d803ba566b9519",
     "grade": true,
     "grade_id": "cell-ab5885f5dd9bb1b6",
     "locked": true,
     "points": 1,
     "schema_version": 3,
     "solution": false
    }
   },
   "outputs": [],
   "source": [
    "# Let's test your decoder\n",
    "n_components = 2\n",
    "encoder_test = EncoderDeepConv(n_components)\n",
    "y = encoder_test(torch.randn(1, 1, 28, 28), verbose=True)\n",
    "\n",
    "decoder_test = DecoderDeepConv(n_components)\n",
    "y = decoder_test(torch.randn(1, n_components), verbose=True)\n",
    "assert y.shape == torch.Size([1, 1, 28, 28]), \"Bad shape of y: y.shape={}\".format(y.shape)\n",
    "print(\"The shapes seem to be ok.\")"
   ]
  },
  {
   "cell_type": "code",
   "execution_count": null,
   "metadata": {
    "deletable": false,
    "editable": false,
    "nbgrader": {
     "cell_type": "code",
     "checksum": "d9fecfd3c7a90cc504218a9d510ebcf7",
     "grade": false,
     "grade_id": "cell-a0d1cd0bc2416aa6",
     "locked": true,
     "schema_version": 3,
     "solution": false
    }
   },
   "outputs": [],
   "source": [
    "# Create an autoencoder\n",
    "n_components = 10\n",
    "encoder = EncoderDeepConv(n_components)\n",
    "encoder.to(device)\n",
    "\n",
    "decoder = DecoderDeepConv(n_components)\n",
    "decoder.to(device)"
   ]
  },
  {
   "cell_type": "code",
   "execution_count": null,
   "metadata": {
    "deletable": false,
    "editable": false,
    "nbgrader": {
     "cell_type": "code",
     "checksum": "ea67c42ec523bec5407a44e952590ce8",
     "grade": false,
     "grade_id": "cell-36c943299076af86",
     "locked": true,
     "schema_version": 3,
     "solution": false
    }
   },
   "outputs": [],
   "source": [
    "criterion = nn.MSELoss()\n",
    "parameters = list(encoder.parameters()) + list(decoder.parameters())\n",
    "optimizer = optim.Adam(parameters, lr=0.001)"
   ]
  },
  {
   "cell_type": "code",
   "execution_count": null,
   "metadata": {
    "deletable": false,
    "editable": false,
    "nbgrader": {
     "cell_type": "code",
     "checksum": "b276fee000b2d309cf2f2538b24f1906",
     "grade": false,
     "grade_id": "cell-0ad235571e5b97f2",
     "locked": true,
     "schema_version": 3,
     "solution": false
    }
   },
   "outputs": [],
   "source": [
    "# Train the network\n",
    "for epoch in range(3):\n",
    "    running_loss = 0.0\n",
    "    for i, (inputs, labels) in enumerate(trainloader, 0):\n",
    "        inputs = inputs.to(device)\n",
    "\n",
    "        optimizer.zero_grad()\n",
    "\n",
    "        encoder_outputs = encoder(inputs)\n",
    "        decoder_outputs = decoder(encoder_outputs)\n",
    "\n",
    "        loss = criterion(decoder_outputs, inputs)\n",
    "        loss.backward()\n",
    "\n",
    "        optimizer.step()\n",
    "\n",
    "        # print statistics\n",
    "        running_loss += loss.item()\n",
    "        if i % 200 == 199:    # print every 200 mini-batches\n",
    "            print('[%d, %5d] loss: %.3f' %\n",
    "                  (epoch+1, i+1, running_loss/200))\n",
    "            running_loss = 0.0\n",
    "\n",
    "        if skip_training:\n",
    "            break\n",
    "    if skip_training:\n",
    "        break\n",
    "\n",
    "print('Finished Training')"
   ]
  },
  {
   "cell_type": "code",
   "execution_count": null,
   "metadata": {
    "deletable": false,
    "editable": false,
    "nbgrader": {
     "cell_type": "code",
     "checksum": "b9b94287aa2198ac79af308bcaf5ae2f",
     "grade": false,
     "grade_id": "cell-ab37dd4f0489b118",
     "locked": true,
     "schema_version": 3,
     "solution": false
    }
   },
   "outputs": [],
   "source": [
    "# Save the model to disk, submit the files together with your notebook\n",
    "encoder_filename = '6_encoder_deep_conv.pth'\n",
    "decoder_filename = '6_decoder_deep_conv.pth'\n",
    "if not skip_training:\n",
    "    try:\n",
    "        do_save = input('Do you want to save the model (type yes to confirm)? ').lower()\n",
    "        if do_save == 'yes':\n",
    "            torch.save(encoder.state_dict(), encoder_filename)\n",
    "            torch.save(decoder.state_dict(), decoder_filename)\n",
    "            print('Model saved to %s, %s.' % (encoder_filename, decoder_filename))\n",
    "        else:\n",
    "            print('Model not saved.')\n",
    "    except:\n",
    "        raise Exception('The notebook should be run or validated with skip_training=True.')\n",
    "else:\n",
    "    n_components = 10\n",
    "    encoder = EncoderDeepConv(n_components)\n",
    "    encoder.load_state_dict(torch.load(encoder_filename, map_location=lambda storage, loc: storage))\n",
    "    print('Encoder loaded from %s.' % encoder_filename)\n",
    "    encoder = encoder.to(device)\n",
    "    encoder.eval()\n",
    "\n",
    "    n_components = 10\n",
    "    decoder = DecoderDeepConv(n_components)\n",
    "    decoder.load_state_dict(torch.load(decoder_filename, map_location=lambda storage, loc: storage))\n",
    "    print('Decoder loaded from %s.' % decoder_filename)\n",
    "    decoder = decoder.to(device)\n",
    "    decoder.eval()"
   ]
  },
  {
   "cell_type": "code",
   "execution_count": null,
   "metadata": {
    "deletable": false,
    "editable": false,
    "nbgrader": {
     "cell_type": "code",
     "checksum": "22b65913777f971101ea70d3e4cec8e2",
     "grade": false,
     "grade_id": "cell-e84c82cfcf09375e",
     "locked": true,
     "schema_version": 3,
     "solution": false
    }
   },
   "outputs": [],
   "source": [
    "# Let's visualize the latent space\n",
    "visualize_embeddings(encoder, testloader, n_samples=1000, device=device)"
   ]
  },
  {
   "cell_type": "code",
   "execution_count": null,
   "metadata": {
    "deletable": false,
    "editable": false,
    "nbgrader": {
     "cell_type": "code",
     "checksum": "0e56c7b01e862514f49bc96820706af8",
     "grade": false,
     "grade_id": "cell-636e5c4a06ed61fb",
     "locked": true,
     "schema_version": 3,
     "solution": false
    }
   },
   "outputs": [],
   "source": [
    "# Let's visualize test images and their reconstructions using the trained autoencoder\n",
    "visualize_reconstructions(encoder, decoder, testloader, device)"
   ]
  }
 ],
 "metadata": {
  "kernelspec": {
   "display_name": "Python 3",
   "language": "python",
   "name": "python3"
  },
  "language_info": {
   "codemirror_mode": {
    "name": "ipython",
    "version": 3
   },
   "file_extension": ".py",
   "mimetype": "text/x-python",
   "name": "python",
   "nbconvert_exporter": "python",
   "pygments_lexer": "ipython3",
   "version": "3.6.8"
  }
 },
 "nbformat": 4,
 "nbformat_minor": 2
}
